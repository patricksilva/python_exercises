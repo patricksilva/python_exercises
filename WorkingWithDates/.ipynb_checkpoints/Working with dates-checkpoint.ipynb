{
 "cells": [
  {
   "cell_type": "markdown",
   "metadata": {},
   "source": [
    "# Dates exercise\n",
    "\n",
    "Generate a list of weekends. The final layout must include year, day of month and day of year."
   ]
  },
  {
   "cell_type": "code",
   "execution_count": 1,
   "metadata": {},
   "outputs": [],
   "source": [
    "from datetime import date, timedelta"
   ]
  },
  {
   "cell_type": "code",
   "execution_count": 2,
   "metadata": {},
   "outputs": [],
   "source": [
    "t0 = date(2019,1,1) # seja t0 o dia inicial\n",
    "t = date(2019,12,31) # seja t o dia final\n",
    "dt = timedelta(days=1) # seja dt o intervalo entre uma data e outra"
   ]
  },
  {
   "cell_type": "code",
   "execution_count": 3,
   "metadata": {},
   "outputs": [],
   "source": [
    "ti = t0\n",
    "diff = 0\n",
    "fimDeSemana = set([5, 6])\n",
    "\n",
    "RotuloMes = ('','Janeiro','Fevereiro','Março','Abril','Maio','Junho','Julho','Agosto','Setembro','Outubro','Novembro','Dezembro')\n",
    "RotuloDiaSemana = ('Segunda','Terça','Quarta','Quinta','Sexta','Sábado','Domingo')\n",
    "\n",
    "listaDados = []\n",
    "\n",
    "while ti < t:\n",
    "    if ti.weekday() > 4:\n",
    "        diff += 1\n",
    "        #print(ti, ti.year, RotuloMes[ti.month], RotuloDiaSemana[ti.weekday()], ti.day, int(ti.strftime('%j')), ti.isocalendar()[1])\n",
    "        listaDados.append( tuple( [ti, \n",
    "                                   ti.year, \n",
    "                                   RotuloMes[ti.month], \n",
    "                                   RotuloDiaSemana[ti.weekday()], \n",
    "                                   ti.day, \n",
    "                                   int(ti.strftime('%j')), \n",
    "                                   ti.isocalendar()[1]]\n",
    "                                ) \n",
    "                         ) \n",
    "    ti += dt"
   ]
  },
  {
   "cell_type": "code",
   "execution_count": 4,
   "metadata": {},
   "outputs": [
    {
     "data": {
      "text/plain": [
       "[(datetime.date(2019, 1, 5), 2019, 'Janeiro', 'Sábado', 5, 5, 1),\n",
       " (datetime.date(2019, 1, 6), 2019, 'Janeiro', 'Domingo', 6, 6, 1),\n",
       " (datetime.date(2019, 1, 12), 2019, 'Janeiro', 'Sábado', 12, 12, 2),\n",
       " (datetime.date(2019, 1, 13), 2019, 'Janeiro', 'Domingo', 13, 13, 2),\n",
       " (datetime.date(2019, 1, 19), 2019, 'Janeiro', 'Sábado', 19, 19, 3)]"
      ]
     },
     "execution_count": 4,
     "metadata": {},
     "output_type": "execute_result"
    }
   ],
   "source": [
    "listaDados[0:5]"
   ]
  },
  {
   "cell_type": "code",
   "execution_count": 5,
   "metadata": {},
   "outputs": [],
   "source": [
    "listaRotulosColunas = ['Data','Ano','Mês','Dia da semana','Dia','Dia do ano','Semana']"
   ]
  },
  {
   "cell_type": "code",
   "execution_count": 6,
   "metadata": {},
   "outputs": [],
   "source": [
    "import pandas as pd"
   ]
  },
  {
   "cell_type": "code",
   "execution_count": 7,
   "metadata": {},
   "outputs": [],
   "source": [
    "df = pd.DataFrame.from_records( listaDados, columns = listaRotulosColunas)"
   ]
  },
  {
   "cell_type": "code",
   "execution_count": 8,
   "metadata": {},
   "outputs": [],
   "source": [
    "df.to_excel('Working with dates output.xlsx', index=False)"
   ]
  }
 ],
 "metadata": {
  "kernelspec": {
   "display_name": "Python 3.6.8",
   "language": "python",
   "name": "py26"
  },
  "language_info": {
   "codemirror_mode": {
    "name": "ipython",
    "version": 3
   },
   "file_extension": ".py",
   "mimetype": "text/x-python",
   "name": "python",
   "nbconvert_exporter": "python",
   "pygments_lexer": "ipython3",
   "version": "3.6.8"
  }
 },
 "nbformat": 4,
 "nbformat_minor": 2
}
